{
 "cells": [
  {
   "cell_type": "code",
   "execution_count": 31,
   "metadata": {},
   "outputs": [],
   "source": [
    "from data_gen import generate_data\n",
    "from datetime import datetime\n",
    "from pathlib import Path\n",
    "import matplotlib.pyplot as plt\n",
    "import pandas as pd\n",
    "import numpy as np\n",
    "import os"
   ]
  },
  {
   "cell_type": "code",
   "execution_count": 32,
   "metadata": {},
   "outputs": [],
   "source": [
    "def extract_data(dataframe: pd.DataFrame) -> pd.DataFrame:\n",
    "    \"\"\"\n",
    "    Extract useful information from a given CloudFront DataFrame.\n",
    "\n",
    "    Args:\n",
    "        dataframe (pd.DataFrame): The DataFrame to extract information from. It should have columns 'date', 'time',\n",
    "        'x_edge_location', 'c_ip', 'cs_method', 'sc_status', and 'cs_uri_stem'.\n",
    "\n",
    "    Returns:\n",
    "        pd.DataFrame: A new DataFrame containing only the useful information extracted from the input DataFrame. The\n",
    "        new DataFrame has columns 'datetime', 'x_edge_location', 'c_ip', 'cs_method', 'sc_status', and 'cs_uri_stem'.\n",
    "    \"\"\"\n",
    "    # merge date and time columns\n",
    "    dataframe['datetime'] = pd.to_datetime(dataframe['date'] + ' ' + dataframe['time'])\n",
    "\n",
    "    # drop the original date and time columns\n",
    "    temp_df = dataframe.drop(['date', 'time'], axis=1, errors='ignore')\n",
    "\n",
    "    # set datetime column as first column\n",
    "    temp_df.insert(0, 'datetime', temp_df.pop('datetime'))\n",
    "\n",
    "    # Extract useful information from df\n",
    "    df = dataframe.loc[:, ['datetime', 'x_edge_location', 'c_ip', 'cs_method', 'sc_status', 'cs_uri_stem']]\n",
    "\n",
    "    return df"
   ]
  },
  {
   "cell_type": "code",
   "execution_count": 33,
   "metadata": {},
   "outputs": [],
   "source": [
    "from typing import Union\n",
    "\n",
    "def find_unique_addresses(dataframe: pd.DataFrame) -> np.ndarray:\n",
    "    \"\"\"\n",
    "    Returns an array of unique IP addresses from the given DataFrame.\n",
    "\n",
    "    Parameters:\n",
    "    dataframe (pd.DataFrame): The DataFrame containing the CloudFront access log data.\n",
    "\n",
    "    Returns:\n",
    "    np.ndarray: An array of unique IP addresses found in the 'c_ip' column of the DataFrame.\n",
    "    \"\"\"\n",
    "    return dataframe['c_ip'].unique()\n",
    "\n",
    "def count_visits_per_ip(dataframe: pd.DataFrame, ip_address: str = None) -> Union[pd.core.series.Series, np.int64]:\n",
    "    \"\"\" \n",
    "    Returns the number of visits per IP address in the given DataFrame.\n",
    "    If an IP address is specified, returns the number of visits for that IP only.\n",
    "    \"\"\"\n",
    "    if ip_address:\n",
    "        return dataframe['c_ip'].value_counts().get(ip_address, 0)\n",
    "    else:\n",
    "        return dataframe['c_ip'].value_counts()\n"
   ]
  },
  {
   "cell_type": "code",
   "execution_count": 34,
   "metadata": {},
   "outputs": [],
   "source": [
    "def pie_plot_head(dataframe: pd.DataFrame, top_by: str,  top_n: int = 10):\n",
    "    if top_by not in dataframe:\n",
    "        raise ValueError(f\"Column {top_by} not in dataframe\")\n",
    "    top_n = min(len(dataframe[top_by]), top_n)\n",
    "    if top_n == 0:\n",
    "        raise ValueError(f\"Column {top_by} is empty\") \n",
    "\n",
    "    pd_series = dataframe[top_by].value_counts()\n",
    "    title = f'Top {top_n} of {top_by} by count'\n",
    "\n",
    "    plt.figure(title)\n",
    "    plt.pie(pd_series.head(top_n), labels=pd_series.head(top_n).index, autopct='%1.1f%%')\n",
    "    plt.title(title, y=1.08)\n",
    "    plt.axis('equal')\n",
    "    \n",
    "    os.makedirs(\"figures\", exist_ok=True)\n",
    "    now = datetime.now().strftime('%d-%m-%y %H-%M-%S')\n",
    "    img_path = str(Path(\"figures\")/ f\"{title} {now}.png\")\n",
    "    plt.savefig(img_path)"
   ]
  },
  {
   "cell_type": "code",
   "execution_count": 35,
   "metadata": {},
   "outputs": [],
   "source": [
    "def show_edge_traffic(dataframe: pd.DataFrame, top_n: int = 10):\n",
    "    \"\"\"\n",
    "    Displays a pie chart of the traffic distribution between the top N edge locations in the given DataFrame.\n",
    "\n",
    "    Parameters:\n",
    "    ----------\n",
    "    dataframe : pd.DataFrame\n",
    "        The DataFrame containing the CloudFront access log data.\n",
    "    top_n : int, optional\n",
    "        The number of top edge locations to display in the pie chart. Defaults to 10 and is limited to a maximum of 20.\n",
    "    \"\"\"\n",
    "    pie_plot_head(dataframe, 'x_edge_location', top_n)"
   ]
  },
  {
   "cell_type": "code",
   "execution_count": 36,
   "metadata": {},
   "outputs": [],
   "source": [
    "from urllib.parse import urljoin\n",
    "import urllib.request\n",
    "import json\n",
    "\n",
    "def get_location(ip: str) -> str:\n",
    "  \"\"\"\n",
    "  Retrieve the country associated with an IP address.\n",
    "\n",
    "    Parameters:\n",
    "    ip (str): The IP address to lookup.\n",
    "\n",
    "    Returns:\n",
    "    str: The country associated with the IP address, or 'Unknown' if no country information is available.\n",
    "  \"\"\"\n",
    "  response = urllib.request.urlopen(urljoin('http://ipwho.is/', ip))\n",
    "  ipwhois = json.load(response)\n",
    "\n",
    "  return ipwhois.get('country', 'Unknown')\n",
    "\n",
    "def plot_country_traffic(dataframe: pd.DataFrame, top_n: int = 10):\n",
    "    \"\"\"\n",
    "    Plots a pie chart showing the distribution of traffic by country based on the given DataFrame.\n",
    "\n",
    "    Parameters\n",
    "    ----------\n",
    "    dataframe : pandas.DataFrame\n",
    "        A pandas DataFrame containing CloudFront access log data.\n",
    "    top_n : int, optional\n",
    "        The number of top countries to display in the pie chart. Defaults to 10 and is limited to a maximum of 20.\n",
    "    \"\"\"\n",
    "    if 'c_ip' not in dataframe:\n",
    "        raise ValueError(f\"Column c_ip not in dataframe\")\n",
    "    dataframe['location'] = dataframe['c_ip'].apply(get_location)\n",
    "\n",
    "    pie_plot_head(dataframe, 'location', top_n)"
   ]
  },
  {
   "cell_type": "code",
   "execution_count": 37,
   "metadata": {},
   "outputs": [],
   "source": [
    "def get_freq_endpoints(dataframe: pd.DataFrame, frequency = 100) -> pd.DataFrame:\n",
    "    \"\"\"\n",
    "    Returns a DataFrame containing the endpoints that were visited more than a specified frequency,\n",
    "    grouped by the HTTP status code, method, and endpoint.\n",
    "\n",
    "    Parameters:\n",
    "    ----------\n",
    "    dataframe : pd.DataFrame\n",
    "        The DataFrame containing the web access log data.\n",
    "    frequency : int, optional\n",
    "        The minimum number of times an endpoint must be visited to be included in the resulting DataFrame.\n",
    "        Defaults to 100.\n",
    "\n",
    "    Returns:\n",
    "    -------\n",
    "    pd.DataFrame\n",
    "        A DataFrame containing the endpoints that were visited more than the specified frequency,\n",
    "        grouped by the HTTP status code, method, and endpoint.\n",
    "        The DataFrame has the following columns: 'sc_status', 'cs_method', 'cs_uri_stem', and 'count'.\n",
    "    \"\"\"\n",
    "    if dataframe.empty:\n",
    "        return pd.DataFrame()\n",
    "    \n",
    "    # group the data by sc_status, cs_method, and endpoint, and count the occurrences\n",
    "    count_df = dataframe.groupby(['sc_status', 'cs_method', 'cs_uri_stem']).size().reset_index(name='count')\n",
    "\n",
    "    # filter the dataframe to only include rows with count > freq\n",
    "    result_df = count_df[count_df['count'] > frequency]\n",
    "\n",
    "    # return the resulting dataframe\n",
    "    return result_df"
   ]
  },
  {
   "cell_type": "code",
   "execution_count": 38,
   "metadata": {},
   "outputs": [],
   "source": [
    "def check_brute_force(dataframe: pd.DataFrame, sigma: float = 3.5) -> list:\n",
    "    \"\"\"Checks for potential brute force attacks in a DataFrame of CloudFront logs.\n",
    "    \n",
    "    Parameters:\n",
    "    daframe (pd.DataFrame): A pandas DataFrame containing the data to be analyzed.\n",
    "    sigma (float): Says how many standard deviations of difference there must be to mark an IP \n",
    "    as source of brute force attack, ex. in case of sigma = 3.5 in theory only 1 bussiest per 5000 different IPs will be marked.\n",
    "    \"\"\"\n",
    "\n",
    "    # Group the dataframe by endpoints and datetime\n",
    "    grouped = dataframe.groupby(['cs_uri_stem', 'datetime'])\n",
    "\n",
    "    # Create a sliding window of 5 minutes\n",
    "    window_size = pd.Timedelta(minutes=5)\n",
    "    windows = [grouped.filter(lambda x: ((x['datetime'] >= window_start) & (x['datetime'] < window_end)).any()).reset_index(drop=True)\n",
    "               for window_start, window_end in zip(dataframe['datetime'], dataframe['datetime'] + window_size) \n",
    "               if not grouped.filter(lambda x: ((x['datetime'] >= window_start) & (x['datetime'] < window_end)).any()).empty]\n",
    "\n",
    "    # Calculate the maximum count of requests for each window\n",
    "    max_counts = [window.groupby('cs_uri_stem')['datetime'].count().max() for window in windows]\n",
    "\n",
    "    req_count_stdev = np.sqrt(np.var(max_counts))\n",
    "    req_count_avg = np.average(max_counts)\n",
    "    threshold = req_count_avg + req_count_stdev * sigma\n",
    "\n",
    "    # Flag any window with a maximum count exceeding threshold requests\n",
    "    potential_attacks = [(window.iloc[0]['datetime'], window.iloc[-1]['datetime'])\n",
    "                         for window, max_count in zip(windows, max_counts) if max_count > threshold]\n",
    "\n",
    "    return potential_attacks"
   ]
  },
  {
   "cell_type": "code",
   "execution_count": 39,
   "metadata": {},
   "outputs": [
    {
     "data": {
      "text/plain": [
       "[]"
      ]
     },
     "execution_count": 39,
     "metadata": {},
     "output_type": "execute_result"
    },
    {
     "data": {
      "image/png": "[encoded data removed]",
      "text/plain": [
       "<Figure size 432x288 with 1 Axes>"
      ]
     },
     "metadata": {},
     "output_type": "display_data"
    },
    {
     "data": {
      "image/png": "[encoded data removed]",
      "text/plain": [
       "<Figure size 432x288 with 1 Axes>"
      ]
     },
     "metadata": {},
     "output_type": "display_data"
    }
   ],
   "source": [
    " # 1.\n",
    "full_df = generate_data(50)\n",
    "df = extract_data(full_df)\n",
    "\n",
    "# 2.\n",
    "unique_ips = find_unique_addresses(df)\n",
    "\n",
    "# 3.\n",
    "count_visits_per_ip(df)\n",
    "\n",
    "# 4.\n",
    "show_edge_traffic(df)\n",
    "\n",
    "# 5.\n",
    "plot_country_traffic(df)\n",
    "\n",
    "# 6.\n",
    "get_freq_endpoints(df, 20)\n",
    "\n",
    "# 7.\n",
    "check_brute_force(df)"
   ]
  }
 ],
 "metadata": {
  "kernelspec": {
   "display_name": "base",
   "language": "python",
   "name": "python3"
  },
  "language_info": {
   "codemirror_mode": {
    "name": "ipython",
    "version": 3
   },
   "file_extension": ".py",
   "mimetype": "text/x-python",
   "name": "python",
   "nbconvert_exporter": "python",
   "pygments_lexer": "ipython3",
   "version": "3.9.12"
  },
  "orig_nbformat": 4
 },
 "nbformat": 4,
 "nbformat_minor": 2
}
