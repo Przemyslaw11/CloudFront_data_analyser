{
 "cells": [
  {
   "cell_type": "code",
   "execution_count": 58,
   "metadata": {},
   "outputs": [],
   "source": [
    "from data_gen import generate_data\n",
    "import matplotlib.pyplot as plt\n",
    "import pandas as pd\n",
    "import unittest\n",
    "\n",
    "full_df = generate_data()"
   ]
  },
  {
   "cell_type": "code",
   "execution_count": 61,
   "metadata": {},
   "outputs": [],
   "source": [
    "def extract_data(dataframe: pd.DataFrame) -> pd.DataFrame:\n",
    "    \"\"\"\n",
    "    Extract useful information from a given CloudFront DataFrame.\n",
    "\n",
    "    Args:\n",
    "        dataframe (pd.DataFrame): The DataFrame to extract information from. It should have columns 'date', 'time',\n",
    "        'x_edge_location', 'c_ip', 'cs_method', 'sc_status', and 'cs_uri_stem'.\n",
    "\n",
    "    Returns:\n",
    "        pd.DataFrame: A new DataFrame containing only the useful information extracted from the input DataFrame. The\n",
    "        new DataFrame has columns 'datetime', 'x_edge_location', 'c_ip', 'cs_method', 'sc_status', and 'cs_uri_stem'.\n",
    "    \"\"\"\n",
    "    # merge date and time columns\n",
    "    dataframe['datetime'] = pd.to_datetime(dataframe['date'] + ' ' + dataframe['time'])\n",
    "\n",
    "    # drop the original date and time columns\n",
    "    temp_df = dataframe.drop(['date', 'time'], axis=1, errors='ignore')\n",
    "\n",
    "    # set datetime column as first column\n",
    "    temp_df.insert(0, 'datetime', temp_df.pop('datetime'))\n",
    "\n",
    "    # Extract useful information from df\n",
    "    df = dataframe.loc[:, ['datetime', 'x_edge_location', 'c_ip', 'cs_method', 'sc_status', 'cs_uri_stem']]\n",
    "\n",
    "    return df\n",
    "\n",
    "df = extract_data(full_df)\n"
   ]
  },
  {
   "cell_type": "code",
   "execution_count": null,
   "metadata": {},
   "outputs": [],
   "source": []
  },
  {
   "cell_type": "code",
   "execution_count": null,
   "metadata": {},
   "outputs": [],
   "source": []
  }
 ],
 "metadata": {
  "kernelspec": {
   "display_name": "base",
   "language": "python",
   "name": "python3"
  },
  "language_info": {
   "codemirror_mode": {
    "name": "ipython",
    "version": 3
   },
   "file_extension": ".py",
   "mimetype": "text/x-python",
   "name": "python",
   "nbconvert_exporter": "python",
   "pygments_lexer": "ipython3",
   "version": "3.9.12"
  },
  "orig_nbformat": 4
 },
 "nbformat": 4,
 "nbformat_minor": 2
}
