{
 "cells": [
  {
   "cell_type": "code",
   "execution_count": 75,
   "metadata": {},
   "outputs": [],
   "source": [
    "from data_gen import generate_data\n",
    "import matplotlib.pyplot as plt\n",
    "import pandas as pd\n",
    "import numpy as np\n",
    "\n"
   ]
  },
  {
   "cell_type": "code",
   "execution_count": 76,
   "metadata": {},
   "outputs": [],
   "source": [
    "def extract_data(dataframe: pd.DataFrame) -> pd.DataFrame:\n",
    "    \"\"\"\n",
    "    Extract useful information from a given CloudFront DataFrame.\n",
    "\n",
    "    Args:\n",
    "        dataframe (pd.DataFrame): The DataFrame to extract information from. It should have columns 'date', 'time',\n",
    "        'x_edge_location', 'c_ip', 'cs_method', 'sc_status', and 'cs_uri_stem'.\n",
    "\n",
    "    Returns:\n",
    "        pd.DataFrame: A new DataFrame containing only the useful information extracted from the input DataFrame. The\n",
    "        new DataFrame has columns 'datetime', 'x_edge_location', 'c_ip', 'cs_method', 'sc_status', and 'cs_uri_stem'.\n",
    "    \"\"\"\n",
    "    # merge date and time columns\n",
    "    dataframe['datetime'] = pd.to_datetime(dataframe['date'] + ' ' + dataframe['time'])\n",
    "\n",
    "    # drop the original date and time columns\n",
    "    temp_df = dataframe.drop(['date', 'time'], axis=1, errors='ignore')\n",
    "\n",
    "    # set datetime column as first column\n",
    "    temp_df.insert(0, 'datetime', temp_df.pop('datetime'))\n",
    "\n",
    "    # Extract useful information from df\n",
    "    df = dataframe.loc[:, ['datetime', 'x_edge_location', 'c_ip', 'cs_method', 'sc_status', 'cs_uri_stem']]\n",
    "\n",
    "    return df"
   ]
  },
  {
   "cell_type": "code",
   "execution_count": 102,
   "metadata": {},
   "outputs": [],
   "source": [
    "def find_unique_addresses(dataframe: pd.DataFrame) -> np.ndarray:\n",
    "    unique_ips = dataframe['c_ip'].unique()\n",
    "    return unique_ips\n",
    "\n",
    "def count_visits_per_ip(dataframe: pd.DataFrame) -> pd.core.series.Series:\n",
    "    \"\"\" \n",
    "    Returns the number of visits per IP address in the given DataFrame \n",
    "    \"\"\"\n",
    "    ip_counts = dataframe['c_ip'].value_counts()\n",
    "    return ip_counts"
   ]
  },
  {
   "cell_type": "code",
   "execution_count": 104,
   "metadata": {},
   "outputs": [
    {
     "data": {
      "text/plain": [
       "175.250.140.142    2\n",
       "208.158.157.69     2\n",
       "147.67.132.25      2\n",
       "88.167.246.73      2\n",
       "184.183.125.210    2\n",
       "                  ..\n",
       "167.23.98.2        1\n",
       "107.175.36.171     1\n",
       "36.89.79.91        1\n",
       "179.121.176.0      1\n",
       "144.229.237.126    1\n",
       "Name: c_ip, Length: 769, dtype: int64"
      ]
     },
     "execution_count": 104,
     "metadata": {},
     "output_type": "execute_result"
    }
   ],
   "source": [
    "full_df = generate_data()\n",
    "df = extract_data(full_df)\n",
    "unique_ips = find_unique_addresses(df)\n",
    "count_visits_per_ip(df)"
   ]
  },
  {
   "cell_type": "code",
   "execution_count": null,
   "metadata": {},
   "outputs": [],
   "source": []
  }
 ],
 "metadata": {
  "kernelspec": {
   "display_name": "base",
   "language": "python",
   "name": "python3"
  },
  "language_info": {
   "codemirror_mode": {
    "name": "ipython",
    "version": 3
   },
   "file_extension": ".py",
   "mimetype": "text/x-python",
   "name": "python",
   "nbconvert_exporter": "python",
   "pygments_lexer": "ipython3",
   "version": "3.9.12"
  },
  "orig_nbformat": 4
 },
 "nbformat": 4,
 "nbformat_minor": 2
}
