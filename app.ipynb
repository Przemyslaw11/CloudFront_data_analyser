{
 "cells": [
  {
   "cell_type": "code",
   "execution_count": 11,
   "metadata": {},
   "outputs": [],
   "source": [
    "from data_gen import generate_data\n",
    "import matplotlib.pyplot as plt\n",
    "import pandas as pd\n",
    "import numpy as np\n",
    "\n"
   ]
  },
  {
   "cell_type": "code",
   "execution_count": 12,
   "metadata": {},
   "outputs": [],
   "source": [
    "def extract_data(dataframe: pd.DataFrame) -> pd.DataFrame:\n",
    "    \"\"\"\n",
    "    Extract useful information from a given CloudFront DataFrame.\n",
    "\n",
    "    Args:\n",
    "        dataframe (pd.DataFrame): The DataFrame to extract information from. It should have columns 'date', 'time',\n",
    "        'x_edge_location', 'c_ip', 'cs_method', 'sc_status', and 'cs_uri_stem'.\n",
    "\n",
    "    Returns:\n",
    "        pd.DataFrame: A new DataFrame containing only the useful information extracted from the input DataFrame. The\n",
    "        new DataFrame has columns 'datetime', 'x_edge_location', 'c_ip', 'cs_method', 'sc_status', and 'cs_uri_stem'.\n",
    "    \"\"\"\n",
    "    # merge date and time columns\n",
    "    dataframe['datetime'] = pd.to_datetime(dataframe['date'] + ' ' + dataframe['time'])\n",
    "\n",
    "    # drop the original date and time columns\n",
    "    temp_df = dataframe.drop(['date', 'time'], axis=1, errors='ignore')\n",
    "\n",
    "    # set datetime column as first column\n",
    "    temp_df.insert(0, 'datetime', temp_df.pop('datetime'))\n",
    "\n",
    "    # Extract useful information from df\n",
    "    df = dataframe.loc[:, ['datetime', 'x_edge_location', 'c_ip', 'cs_method', 'sc_status', 'cs_uri_stem']]\n",
    "\n",
    "    return df"
   ]
  },
  {
   "cell_type": "code",
   "execution_count": 13,
   "metadata": {},
   "outputs": [],
   "source": [
    "def find_unique_addresses(dataframe: pd.DataFrame) -> np.ndarray:\n",
    "    \"\"\"\n",
    "    Returns an array of unique IP addresses from the given DataFrame.\n",
    "\n",
    "    Parameters:\n",
    "    dataframe (pd.DataFrame): The DataFrame containing the CloudFront access log data.\n",
    "\n",
    "    Returns:\n",
    "    np.ndarray: An array of unique IP addresses found in the 'c_ip' column of the DataFrame.\n",
    "    \"\"\"\n",
    "    unique_ips = dataframe['c_ip'].unique()\n",
    "    return unique_ips\n",
    "\n",
    "def count_visits_per_ip(dataframe: pd.DataFrame, ip_address: str = None) -> pd.core.series.Series:\n",
    "    \"\"\" \n",
    "    Returns the number of visits per IP address in the given DataFrame.\n",
    "    If an IP address is specified, returns the number of visits for that IP only.\n",
    "    \"\"\"\n",
    "    if ip_address:\n",
    "        unique_ips = find_unique_addresses(dataframe)\n",
    "        if ip_address in unique_ips:\n",
    "            return dataframe['c_ip'].value_counts()[ip_address]\n",
    "        else:\n",
    "            return 0\n",
    "    else:\n",
    "        ip_counts = dataframe['c_ip'].value_counts()\n",
    "        return ip_counts\n"
   ]
  },
  {
   "cell_type": "code",
   "execution_count": 14,
   "metadata": {},
   "outputs": [],
   "source": [
    "def show_edge_traffic(dataframe: pd.DataFrame, top_n: int = 10):\n",
    "    \"\"\"\n",
    "    Displays a pie chart of the traffic distribution between the top N edge locations in the given DataFrame.\n",
    "\n",
    "    Parameters:\n",
    "    ----------\n",
    "    dataframe : pd.DataFrame\n",
    "        The DataFrame containing the CloudFront access log data.\n",
    "    top_n : int, optional\n",
    "        The number of top edge locations to display in the pie chart. Defaults to 10 and is limited to a maximum of 20.\n",
    "    \"\"\"\n",
    "    if top_n > 20:\n",
    "        top_n = 20\n",
    "    edge_location_counts = dataframe['x_edge_location'].value_counts()\n",
    "\n",
    "    # Create a pie chart of the location counts\n",
    "    plt.pie(edge_location_counts.head(top_n), labels=edge_location_counts.head(top_n).index, autopct='%1.1f%%')\n",
    "    plt.title('Traffic between top {} edge locations'.format(top_n))\n",
    "    plt.axis('equal')"
   ]
  },
  {
   "cell_type": "code",
   "execution_count": 46,
   "metadata": {},
   "outputs": [],
   "source": [
    "import json\n",
    "import urllib.request\n",
    "\n",
    "def get_location(ip: str) -> str:\n",
    "  \"\"\"\n",
    "  Retrieve the country associated with an IP address.\n",
    "\n",
    "    Parameters:\n",
    "    ip (str): The IP address to lookup.\n",
    "\n",
    "    Returns:\n",
    "    str: The country associated with the IP address, or 'Unknown' if no country information is available.\n",
    "  \"\"\"\n",
    "  response = urllib.request.urlopen('http://ipwho.is/'+ip)\n",
    "  ipwhois = json.load(response)\n",
    "\n",
    "  if 'country' in ipwhois:\n",
    "    return ipwhois['country']\n",
    "  else:\n",
    "    return 'Unknown'\n",
    "\n",
    "def plot_country_traffic(dataframe: pd.DataFrame, top_n: int = 10):\n",
    "    \"\"\"\n",
    "    Plots a pie chart showing the distribution of traffic by country based on the given DataFrame.\n",
    "\n",
    "    Parameters\n",
    "    ----------\n",
    "    dataframe : pandas.DataFrame\n",
    "        A pandas DataFrame containing CloudFront access log data.\n",
    "    top_n : int, optional\n",
    "        The number of top countries to display in the pie chart. Defaults to 10 and is limited to a maximum of 20.\n",
    "    \"\"\"\n",
    "    if top_n > 20:\n",
    "        top_n = 20\n",
    "    \n",
    "    # Find location for each c_ip in the DataFrame\n",
    "    dataframe['location'] = dataframe['c_ip'].apply(get_location)\n",
    "    location_counts = dataframe['location'].value_counts().head(top_n)\n",
    "\n",
    "    # Create a pie chart of the location counts\n",
    "    plt.pie(location_counts, labels=location_counts.index, autopct='%1.1f%%')\n",
    "    plt.title('Traffic between top {} countries'.format(top_n))\n",
    "    plt.axis('equal')\n",
    "    plt.show()"
   ]
  },
  {
   "cell_type": "code",
   "execution_count": 51,
   "metadata": {},
   "outputs": [
    {
     "data": {
      "image/png": "[encoded data removed]",
      "text/plain": [
       "<Figure size 432x288 with 1 Axes>"
      ]
     },
     "metadata": {},
     "output_type": "display_data"
    }
   ],
   "source": [
    "# 1.\n",
    "full_df = generate_data(100)\n",
    "df = extract_data(full_df)\n",
    "\n",
    "# 2.\n",
    "unique_ips = find_unique_addresses(df)\n",
    "\n",
    "# 3.\n",
    "count_visits_per_ip(df)\n",
    "\n",
    "# 4.\n",
    "show_edge_traffic(df)\n",
    "\n",
    "# 5.\n",
    "plot_country_traffic(df)"
   ]
  }
 ],
 "metadata": {
  "kernelspec": {
   "display_name": "base",
   "language": "python",
   "name": "python3"
  },
  "language_info": {
   "codemirror_mode": {
    "name": "ipython",
    "version": 3
   },
   "file_extension": ".py",
   "mimetype": "text/x-python",
   "name": "python",
   "nbconvert_exporter": "python",
   "pygments_lexer": "ipython3",
   "version": "3.9.12"
  },
  "orig_nbformat": 4
 },
 "nbformat": 4,
 "nbformat_minor": 2
}
